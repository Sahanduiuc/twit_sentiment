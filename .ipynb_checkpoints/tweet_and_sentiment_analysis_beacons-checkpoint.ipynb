{
 "cells": [
  {
   "cell_type": "markdown",
   "metadata": {},
   "source": [
    "# Tweet and Sentiment Analysis"
   ]
  },
  {
   "cell_type": "markdown",
   "metadata": {},
   "source": [
    "### Sentiment analysis of ~1,200 tweets with #beacons as well as the top hashtags assoicated with the #beacons tweets and the top tweeters."
   ]
  },
  {
   "cell_type": "code",
   "execution_count": 1,
   "metadata": {
    "collapsed": false
   },
   "outputs": [],
   "source": [
    "import nltk\n",
    "import csv\n",
    "import numpy as np\n",
    "import re\n",
    "from collections import defaultdict\n",
    "from operator import itemgetter\n",
    "import matplotlib.pyplot as plt\n",
    "%matplotlib inline\n",
    "import pandas as pd"
   ]
  },
  {
   "cell_type": "markdown",
   "metadata": {},
   "source": [
    "### Sentiment Analysis"
   ]
  },
  {
   "cell_type": "code",
   "execution_count": 2,
   "metadata": {
    "collapsed": false
   },
   "outputs": [],
   "source": [
    "negative = []\n",
    "with open(\"csv_files/words_negative.csv\", \"rb\") as file:\n",
    "    reader = csv.reader(file)\n",
    "    for row in reader:\n",
    "        negative.append(row)"
   ]
  },
  {
   "cell_type": "code",
   "execution_count": 3,
   "metadata": {
    "collapsed": true
   },
   "outputs": [],
   "source": [
    "positive = []\n",
    "with open(\"csv_files/words_positive.csv\", \"rb\") as file:\n",
    "    reader = csv.reader(file)\n",
    "    for row in reader:\n",
    "        positive.append(row)"
   ]
  },
  {
   "cell_type": "code",
   "execution_count": 4,
   "metadata": {
    "collapsed": true
   },
   "outputs": [],
   "source": [
    "def sentiment(text):\n",
    "    temp = [] #\n",
    "    text_sent = nltk.sent_tokenize(text)\n",
    "    for sentence in text_sent:\n",
    "        n_count = 0\n",
    "        p_count = 0\n",
    "        sent_words = nltk.word_tokenize(sentence)\n",
    "        for word in sent_words:\n",
    "            for item in positive:\n",
    "                if(word == item[0]):\n",
    "                    p_count +=1\n",
    "            for item in negative:\n",
    "                if(word == item[0]):\n",
    "                    n_count +=1\n",
    "\n",
    "        if(p_count > 0 and n_count == 0): #any number of only positives (+) [case 1]\n",
    "            #print \"+ : \" + sentence\n",
    "            temp.append(1)\n",
    "        elif(n_count%2 > 0): #odd number of negatives (-) [case2]\n",
    "            #print \"- : \" + sentence\n",
    "            temp.append(-1)\n",
    "        elif(n_count%2 ==0 and n_count > 0): #even number of negatives (+) [case3]\n",
    "            #print \"+ : \" + sentence\n",
    "            temp.append(1)\n",
    "        else:\n",
    "            #print \"? : \" + sentence\n",
    "            temp.append(0)\n",
    "    return temp"
   ]
  },
  {
   "cell_type": "code",
   "execution_count": 5,
   "metadata": {
    "collapsed": false
   },
   "outputs": [],
   "source": [
    "alltweets = []\n",
    "with open(\"csv_files/beacons_tweets.csv\", \"rU\") as file:\n",
    "    reader = csv.reader(file)\n",
    "    for row in reader:\n",
    "        alltweets.append(row)"
   ]
  },
  {
   "cell_type": "code",
   "execution_count": 6,
   "metadata": {
    "collapsed": false
   },
   "outputs": [
    {
     "data": {
      "text/plain": [
       "['RT @Verifone: #NRF16 takeaway: enhancing the consumer experience w/ #beacons https://t.co/c68gM3IFon @Allrecipes @RebaHow https://t.co/nnub\\xe4\\xf3_']"
      ]
     },
     "execution_count": 6,
     "metadata": {},
     "output_type": "execute_result"
    }
   ],
   "source": [
    "alltweets[0]"
   ]
  },
  {
   "cell_type": "code",
   "execution_count": 7,
   "metadata": {
    "collapsed": false
   },
   "outputs": [
    {
     "name": "stdout",
     "output_type": "stream",
     "text": [
      "Number of positive tweets: 139\n",
      "Number of negative tweets: 38\n",
      "Number of neutral tweets: 1023\n"
     ]
    }
   ],
   "source": [
    "n_count = 0\n",
    "p_count = 0\n",
    "neutral_count = 0\n",
    "\n",
    "for atweet in alltweets:\n",
    "    if np.average(sentiment(str(atweet))) < 0:\n",
    "        n_count +=1\n",
    "    if np.average(sentiment(str(atweet))) > 0:\n",
    "        p_count +=1\n",
    "    if np.average(sentiment(str(atweet))) == 0:\n",
    "        neutral_count +=1\n",
    "        \n",
    "print 'Number of positive tweets: {0}'.format(p_count)\n",
    "print 'Number of negative tweets: {0}'.format(n_count)\n",
    "print 'Number of neutral tweets: {0}'.format(neutral_count)"
   ]
  },
  {
   "cell_type": "markdown",
   "metadata": {},
   "source": [
    "### Hashtag Analysis"
   ]
  },
  {
   "cell_type": "code",
   "execution_count": 8,
   "metadata": {
    "collapsed": false
   },
   "outputs": [],
   "source": [
    "hashtag_regex = re.compile(r\"(?i)(?<=\\#)\\w+\") #use (?i)\\#\\w+' to show # \n",
    "allhashtags = []\n",
    "\n",
    "for atweet in alltweets:\n",
    "    match = re.findall(hashtag_regex, str(atweet))\n",
    "    if match:\n",
    "        allhashtags.append(match)\n",
    "\n",
    "#print allhashtags"
   ]
  },
  {
   "cell_type": "code",
   "execution_count": 9,
   "metadata": {
    "collapsed": false
   },
   "outputs": [
    {
     "name": "stdout",
     "output_type": "stream",
     "text": [
      "3446\n"
     ]
    }
   ],
   "source": [
    "temph = []\n",
    "for ahashtag in allhashtags:\n",
    "    for x in range(len(ahashtag)):\n",
    "        temph.append(ahashtag[x].lower())\n",
    "\n",
    "#print temph\n",
    "print len(temph)"
   ]
  },
  {
   "cell_type": "code",
   "execution_count": 10,
   "metadata": {
    "collapsed": false
   },
   "outputs": [
    {
     "name": "stdout",
     "output_type": "stream",
     "text": [
      "[('iot', 144), ('retail', 99), ('mobile', 77), ('marketing', 56), ('retailers', 42), ('bigdata', 42), ('proximity', 38), ('ibeacon', 37), ('lookingforward', 36), ('ble', 35), ('mus', 35), ('wifi', 32), ('ibeacons', 25), ('digital', 25), ('rfid', 24), ('webinar', 23), ('apps', 23), ('innovation', 21), ('ecommerce', 19), ('eddystone', 19), ('analytics', 18), ('wearables', 18), ('omnichannel', 16), ('proximitymarketing', 15), ('physicalweb', 15), ('mobilemarketing', 14), ('internetofthings', 14), ('google', 14), ('mpos', 13), ('loyalty', 13), ('cx', 13), ('advertising', 13), ('aricent', 12)]\n"
     ]
    }
   ],
   "source": [
    "hashtag_dict = defaultdict(int)\n",
    "\n",
    "for hashtagx in temph:\n",
    "    hashtag_dict[hashtagx] += 1\n",
    "    sorted_hashtags = sorted(hashtag_dict.items(), key=itemgetter(1), reverse=True)       \n",
    "print sorted_hashtags[2:35]\n",
    "datah = sorted_hashtags[2:35]\n",
    "#print hashtag_dict"
   ]
  },
  {
   "cell_type": "code",
   "execution_count": 11,
   "metadata": {
    "collapsed": false
   },
   "outputs": [
    {
     "data": {
      "text/html": [
       "<div>\n",
       "<table border=\"1\" class=\"dataframe\">\n",
       "  <thead>\n",
       "    <tr style=\"text-align: right;\">\n",
       "      <th></th>\n",
       "      <th>count</th>\n",
       "    </tr>\n",
       "    <tr>\n",
       "      <th>hashtags</th>\n",
       "      <th></th>\n",
       "    </tr>\n",
       "  </thead>\n",
       "  <tbody>\n",
       "    <tr>\n",
       "      <th>iot</th>\n",
       "      <td>144</td>\n",
       "    </tr>\n",
       "    <tr>\n",
       "      <th>retail</th>\n",
       "      <td>99</td>\n",
       "    </tr>\n",
       "    <tr>\n",
       "      <th>mobile</th>\n",
       "      <td>77</td>\n",
       "    </tr>\n",
       "    <tr>\n",
       "      <th>marketing</th>\n",
       "      <td>56</td>\n",
       "    </tr>\n",
       "    <tr>\n",
       "      <th>retailers</th>\n",
       "      <td>42</td>\n",
       "    </tr>\n",
       "  </tbody>\n",
       "</table>\n",
       "</div>"
      ],
      "text/plain": [
       "           count\n",
       "hashtags        \n",
       "iot          144\n",
       "retail        99\n",
       "mobile        77\n",
       "marketing     56\n",
       "retailers     42"
      ]
     },
     "execution_count": 11,
     "metadata": {},
     "output_type": "execute_result"
    }
   ],
   "source": [
    "dfh = pd.DataFrame(datah)\n",
    "dfh.columns = ['hashtags','count']\n",
    "dfh = dfh.set_index('hashtags')\n",
    "dfh.head()\n"
   ]
  },
  {
   "cell_type": "code",
   "execution_count": 12,
   "metadata": {
    "collapsed": false
   },
   "outputs": [
    {
     "data": {
      "image/png": "[encoded data removed]",
      "text/plain": [
       "<matplotlib.figure.Figure at 0x1052b9150>"
      ]
     },
     "metadata": {},
     "output_type": "display_data"
    }
   ],
   "source": [
    "my_plot = dfh.head(25)\n",
    "my_plot = my_plot.sort('count', ascending=False).plot(kind = 'bar', legend = None, title = 'Top Hashtags Associated with #beacons')\n",
    "my_plot.set_xlabel('Hashtags')\n",
    "my_plot.set_ylabel('Tweet Count')\n",
    "plt.show()"
   ]
  },
  {
   "cell_type": "markdown",
   "metadata": {},
   "source": [
    "### Username Analysis"
   ]
  },
  {
   "cell_type": "code",
   "execution_count": 13,
   "metadata": {
    "collapsed": false
   },
   "outputs": [
    {
     "name": "stdout",
     "output_type": "stream",
     "text": [
      "['Verifone', 'Allrecipes', 'RebaHow']\n"
     ]
    }
   ],
   "source": [
    "username_regex = re.compile(r\"(?<=@)\\w+\") #use (?<=@)\\w+ to show @\n",
    "allusernames = []\n",
    "for atweet in alltweets:\n",
    "    match = re.findall(username_regex, str(atweet))\n",
    "    if match:\n",
    "        allusernames.append(match)\n",
    "\n",
    "print allusernames[0]"
   ]
  },
  {
   "cell_type": "code",
   "execution_count": 14,
   "metadata": {
    "collapsed": false
   },
   "outputs": [
    {
     "name": "stdout",
     "output_type": "stream",
     "text": [
      "1192\n"
     ]
    }
   ],
   "source": [
    "tempu = []\n",
    "for ausername in allusernames:\n",
    "    for y in range(len(ausername)):\n",
    "        tempu.append(ausername[y])\n",
    "\n",
    "#print temph\n",
    "print len(tempu)"
   ]
  },
  {
   "cell_type": "code",
   "execution_count": 15,
   "metadata": {
    "collapsed": false
   },
   "outputs": [
    {
     "name": "stdout",
     "output_type": "stream",
     "text": [
      "[('Verifone', 71), ('ArubaNetworks', 45), ('orange', 36), ('Allrecipes', 31), ('RebaHow', 27), ('Estimote', 25), ('Beaconstac', 21), ('alanjni', 21), ('Unacast', 17), ('VenueNext', 17), ('MobileStrat360', 15), ('geomarketing', 15), ('pymnts', 14), ('Mobile360Katie', 13), ('MCommerceDaily', 12), ('easymobilad', 11), ('riteaid', 11), ('networkworld', 10), ('next2uApp', 10), ('pavelradda', 10)]\n"
     ]
    }
   ],
   "source": [
    "username_dict = defaultdict(int)\n",
    "\n",
    "for usernamey in tempu:\n",
    "    username_dict[usernamey] += 1\n",
    "    sorted_username = sorted(username_dict.items(), key=itemgetter(1), reverse=True)       \n",
    "print sorted_username[:20]\n",
    "datau = sorted_username[:20]\n",
    "#print username_dict"
   ]
  },
  {
   "cell_type": "code",
   "execution_count": 16,
   "metadata": {
    "collapsed": false
   },
   "outputs": [
    {
     "data": {
      "text/html": [
       "<div>\n",
       "<table border=\"1\" class=\"dataframe\">\n",
       "  <thead>\n",
       "    <tr style=\"text-align: right;\">\n",
       "      <th></th>\n",
       "      <th>count</th>\n",
       "    </tr>\n",
       "    <tr>\n",
       "      <th>username</th>\n",
       "      <th></th>\n",
       "    </tr>\n",
       "  </thead>\n",
       "  <tbody>\n",
       "    <tr>\n",
       "      <th>Verifone</th>\n",
       "      <td>71</td>\n",
       "    </tr>\n",
       "    <tr>\n",
       "      <th>ArubaNetworks</th>\n",
       "      <td>45</td>\n",
       "    </tr>\n",
       "    <tr>\n",
       "      <th>orange</th>\n",
       "      <td>36</td>\n",
       "    </tr>\n",
       "    <tr>\n",
       "      <th>Allrecipes</th>\n",
       "      <td>31</td>\n",
       "    </tr>\n",
       "    <tr>\n",
       "      <th>RebaHow</th>\n",
       "      <td>27</td>\n",
       "    </tr>\n",
       "  </tbody>\n",
       "</table>\n",
       "</div>"
      ],
      "text/plain": [
       "               count\n",
       "username            \n",
       "Verifone          71\n",
       "ArubaNetworks     45\n",
       "orange            36\n",
       "Allrecipes        31\n",
       "RebaHow           27"
      ]
     },
     "execution_count": 16,
     "metadata": {},
     "output_type": "execute_result"
    }
   ],
   "source": [
    "dfu = pd.DataFrame(datau)\n",
    "dfu.columns = ['username','count']\n",
    "dfu = dfu.set_index('username')\n",
    "dfu.head()"
   ]
  },
  {
   "cell_type": "code",
   "execution_count": 18,
   "metadata": {
    "collapsed": false
   },
   "outputs": [
    {
     "data": {
      "image/png": "[encoded data removed]",
      "text/plain": [
       "<matplotlib.figure.Figure at 0x1052b29d0>"
      ]
     },
     "metadata": {},
     "output_type": "display_data"
    }
   ],
   "source": [
    "my_plotu = dfu.head(20)\n",
    "my_plotu = my_plotu.sort('count').plot(kind = 'barh', legend = None, title = 'Top Users Associated with #beacons')\n",
    "my_plotu.set_xlabel('Tweet Count')\n",
    "my_plotu.set_ylabel('Twitter Username')\n",
    "plt.show()"
   ]
  }
 ],
 "metadata": {
  "kernelspec": {
   "display_name": "Python 2",
   "language": "python",
   "name": "python2"
  },
  "language_info": {
   "codemirror_mode": {
    "name": "ipython",
    "version": 2
   },
   "file_extension": ".py",
   "mimetype": "text/x-python",
   "name": "python",
   "nbconvert_exporter": "python",
   "pygments_lexer": "ipython2",
   "version": "2.7.10"
  }
 },
 "nbformat": 4,
 "nbformat_minor": 0
}
