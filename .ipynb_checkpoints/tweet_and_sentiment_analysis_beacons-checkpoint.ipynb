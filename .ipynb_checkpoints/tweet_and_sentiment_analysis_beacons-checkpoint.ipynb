{
 "cells": [
  {
   "cell_type": "markdown",
   "metadata": {},
   "source": [
    "# Tweet and Sentiment Analysis"
   ]
  },
  {
   "cell_type": "markdown",
   "metadata": {},
   "source": [
    "### Sentiment analysis of ~1,200 tweets with #beacons as well as the top hashtags assoicated with the #beacons tweets and the top tweeters."
   ]
  },
  {
   "cell_type": "code",
   "execution_count": 102,
   "metadata": {
    "collapsed": false
   },
   "outputs": [],
   "source": [
    "import nltk\n",
    "import csv\n",
    "import numpy as np\n",
    "import re\n",
    "from collections import defaultdict\n",
    "from operator import itemgetter\n",
    "import matplotlib.pyplot as plt\n",
    "%matplotlib inline\n",
    "import pandas as pd"
   ]
  },
  {
   "cell_type": "markdown",
   "metadata": {},
   "source": [
    "### Sentiment Analysis"
   ]
  },
  {
   "cell_type": "code",
   "execution_count": 2,
   "metadata": {
    "collapsed": true
   },
   "outputs": [],
   "source": [
    "negative = []\n",
    "with open(\"words_negative.csv\", \"rb\") as file:\n",
    "    reader = csv.reader(file)\n",
    "    for row in reader:\n",
    "        negative.append(row)"
   ]
  },
  {
   "cell_type": "code",
   "execution_count": 3,
   "metadata": {
    "collapsed": true
   },
   "outputs": [],
   "source": [
    "positive = []\n",
    "with open(\"words_positive.csv\", \"rb\") as file:\n",
    "    reader = csv.reader(file)\n",
    "    for row in reader:\n",
    "        positive.append(row)"
   ]
  },
  {
   "cell_type": "code",
   "execution_count": 14,
   "metadata": {
    "collapsed": true
   },
   "outputs": [],
   "source": [
    "def sentiment(text):\n",
    "    temp = [] #\n",
    "    text_sent = nltk.sent_tokenize(text)\n",
    "    for sentence in text_sent:\n",
    "        n_count = 0\n",
    "        p_count = 0\n",
    "        sent_words = nltk.word_tokenize(sentence)\n",
    "        for word in sent_words:\n",
    "            for item in positive:\n",
    "                if(word == item[0]):\n",
    "                    p_count +=1\n",
    "            for item in negative:\n",
    "                if(word == item[0]):\n",
    "                    n_count +=1\n",
    "\n",
    "        if(p_count > 0 and n_count == 0): #any number of only positives (+) [case 1]\n",
    "            #print \"+ : \" + sentence\n",
    "            temp.append(1)\n",
    "        elif(n_count%2 > 0): #odd number of negatives (-) [case2]\n",
    "            #print \"- : \" + sentence\n",
    "            temp.append(-1)\n",
    "        elif(n_count%2 ==0 and n_count > 0): #even number of negatives (+) [case3]\n",
    "            #print \"+ : \" + sentence\n",
    "            temp.append(1)\n",
    "        else:\n",
    "            #print \"? : \" + sentence\n",
    "            temp.append(0)\n",
    "    return temp"
   ]
  },
  {
   "cell_type": "code",
   "execution_count": 25,
   "metadata": {
    "collapsed": false
   },
   "outputs": [],
   "source": [
    "alltweets = []\n",
    "with open(\"beacons_tweets.csv\", \"rU\") as file:\n",
    "    reader = csv.reader(file)\n",
    "    for row in reader:\n",
    "        alltweets.append(row)"
   ]
  },
  {
   "cell_type": "code",
   "execution_count": 26,
   "metadata": {
    "collapsed": false
   },
   "outputs": [
    {
     "data": {
      "text/plain": [
       "['RT @Verifone: #NRF16 takeaway: enhancing the consumer experience w/ #beacons https://t.co/c68gM3IFon @Allrecipes @RebaHow https://t.co/nnub\\xe4\\xf3_']"
      ]
     },
     "execution_count": 26,
     "metadata": {},
     "output_type": "execute_result"
    }
   ],
   "source": [
    "alltweets[0]"
   ]
  },
  {
   "cell_type": "code",
   "execution_count": 138,
   "metadata": {
    "collapsed": false
   },
   "outputs": [
    {
     "name": "stdout",
     "output_type": "stream",
     "text": [
      "Number of positive tweets: 139\n",
      "Number of negative tweets: 38\n",
      "Number of neutral tweets: 1023\n"
     ]
    }
   ],
   "source": [
    "n_count = 0\n",
    "p_count = 0\n",
    "neutral_count = 0\n",
    "\n",
    "for atweet in alltweets:\n",
    "    if np.average(sentiment(str(atweet))) < 0:\n",
    "        n_count +=1\n",
    "    if np.average(sentiment(str(atweet))) > 0:\n",
    "        p_count +=1\n",
    "    if np.average(sentiment(str(atweet))) == 0:\n",
    "        neutral_count +=1\n",
    "        \n",
    "print 'Number of positive tweets: {0}'.format(p_count)\n",
    "print 'Number of negative tweets: {0}'.format(n_count)\n",
    "print 'Number of neutral tweets: {0}'.format(neutral_count)"
   ]
  },
  {
   "cell_type": "markdown",
   "metadata": {},
   "source": [
    "### Hashtag Analysis"
   ]
  },
  {
   "cell_type": "code",
   "execution_count": 85,
   "metadata": {
    "collapsed": false
   },
   "outputs": [],
   "source": [
    "hashtag_regex = re.compile(r\"(?i)(?<=\\#)\\w+\") #use (?i)\\#\\w+' to show # \n",
    "allhashtags = []\n",
    "\n",
    "for atweet in alltweets:\n",
    "    match = re.findall(hashtag_regex, str(atweet))\n",
    "    if match:\n",
    "        allhashtags.append(match)\n",
    "\n",
    "#print allhashtags"
   ]
  },
  {
   "cell_type": "code",
   "execution_count": 145,
   "metadata": {
    "collapsed": false
   },
   "outputs": [
    {
     "name": "stdout",
     "output_type": "stream",
     "text": [
      "['nrf16', 'beacons', 'iot', 'bigdata', 'beacons', 'wearables', 'security', 'mobile', 'beacons', 'restaurants', 'beacons', 'restaurants', 'growthhacking', 'realestate', 'physicalweb', 'beacons', 'growthhacking', 'realestate', 'physicalweb', 'beacons', 'mobile', 'shopper', 'nrf16', 'beacons', 'businesses', 'beacons', 'marketing', 'mobile', 'iotawards', 'iot', 'beacons', 'beacons', 'beacons', 'marketing', 'proximitymarketing', 'beacons', 'mobile', 'shopper', 'nrf16', 'beacons', 'beacons', 'beacons', 'mobile', 'customers', 'beacons', 'beacons', 'beacons', 'beacons', 'webinar', 'slides', 'beacons', 'beacons', 'store', 'beacontechnology', 'retail', 'beacons', 'iot', 'beacons', 'loyalty', 'beacons', 'bigdata', 'gamification', 'loyalty', 'beacons', 'bigdata', 'gamification', 'abouttime', 'beacons', 'wearables', 'beacons', 'rfid', 'iot', 'internetofthings', 'bigdata', 'beacons', 'wearables', 'security', 'beacons', 'customerexperience', 'cx', 'cem', 'internetofthings', 'bigdata', 'beacons', 'wearables', 'security', 'nrf16', 'beacons', 'ble', 'beacons', 'beacons', 'mobilemarketing', 'beacons', 'mobilemarketing', 'nrf16', 'beacons', 'beacons', 'retail', 'iot', 'beacons', 'retail', 'iot', 'travel', 'beacons', 'indoormaps', 'beacons', 'wearables', 'beacons', 'rfid', 'iot', 'wearables', 'beacons', 'rfid', 'iot', 'beacons', 'beacons', 'retail', 'proximitymarketing', 'beacons', 'iot', 'proximity', 'retail', 'ble', 'ibeacons', 'beacons', 'iot', 'proximity', 'retail', 'ble', 'ibeacons', 'beacons', 'beacons', 'aixplorer', 'beacons', 'centrecharlemagne', 'npcamp', 'retail', 'vr', 'beacons', 'mobile', 'omnichannel', 'beacons', 'beacons', 'beacons', 'retail', 'vr', 'beacons', 'mobile', 'omnichannel', 'digitizing', 'beacons', 'beacons', 'deals', 'retail', 'vr', 'beacons', 'mobile', 'omnichannel', 'beacons', 'mobile', 'ooh', 'beacons', 'iotawards', 'iot', 'beacons', 'iotawards', 'iot', 'beacons', 'beacons', 'internetofthings', 'google', 'retailmarketing', 'beacons', 'proximitymarketing', 'beacons', 'beacons', 'shopping', 'beacons', 'shopping', 'beacons', 'internetofthings', 'google', 'beacons', 'internetofthings', 'google', 'wearables', 'beacons', 'rfid', 'iot', 'beacons', 'marketing', 'beacons', 'beacons', 'beacons', 'client', 'beacons', 'todayinfood', 'brazilian', 'papayas', 'artificial', 'p', 'loyalty', 'beacons', 'bigdata', 'gamification', 'aixplorer', 'beacons', 'centrecharlemagne', 'npcamp', 'beacons', 'webinar', 'slides', 'beacons', 'learning', 'hcmcoe', 'wireless', 'beacons', 'shops', 'iot', 'beacons', 'shoppermarketing', 'beacons', 'aixplorer', 'beacons', 'centrecharlemagne', 'npcamp', 'asuresko2016', 'microlocations', 'beacons', 'ble', 'beacons', 'shoppermarketing', 'loyalty', 'beacons', 'bigdata', 'gamification', 'beacons', 'stillcynical', 'beacons', 'iot', 'iotawards', 'iot', 'beacons', 'beacons', 'ibeacon', 'retail', 'digital', 'loyalty', 'beacons', 'bigdata', 'gamification', 'wearables', 'beacons', 'rfid', 'iot', 'beacons', 'loyalty', 'beacons', 'bigdata', 'gamification', 'loyalty', 'beacons', 'bigdata', 'gamification', 'loyalty', 'beacons', 'bigdata', 'gamification', 'loyalty', 'beacons', 'bigdata', 'gamification', 'loyalty', 'beacons', 'bigdata', 'gamification', 'loyalty', 'beacons', 'bigdata', 'gamification', 'vccloyalty', 'rfid', 'beacons', 'iot', 'barcodes', 'bigdata', 'predictiveanalytics', 'rfid', 'beacons', 'iot', 'barcodes', 'bigdata', 'predictiveanalytics', 'digitizing', 'beacons', 'proximity', 'beacons', 'investment', 'ibeacon', 'feedly', 'beacons', 'nrf16', 'beacons', 'faqs', 'beacons', 'nrf16', 'beacons', 'iot', 'travel', 'beacons', 'iot', 'travel', 'beacons', 'wearables', 'beacons', 'rfid', 'iot', 'ledlighting', 'data', 'beacons', 'ibeacon', 'ble', 'beacons', 'beacons', 'ibeacon', 'retail', 'digital', 'proximitymarketing', 'beacons', 'ibeacon', 'beacons', 'airberlin', 'conichi', 'beacons', 'pieceofmind', 'travel', 'airberlin', 'conichi', 'beacons', 'pieceofmind', 'travel', 'beacons', 'retailtech', 'pieceofmind', 'airberlin', 'conichi', 'beacons', 'simplinic', 'ibeacons', 'beacons', 'startup', 'simplinic', 'ibeacons', 'beacons', 'healthcare', 'digitalisation', 'devfestparis', 'beacons', 'eddystone', 'knowled', 'devfestparis', 'beacons', 'eddystone', 'knowled', 'simplinic', 'ibeacons', 'beacons', 'healthcare', 'digitalisation', 'simplinic', 'ibeacons', 'beacons', 'healthcare', 'digitalisation', 'growthhacking', 'realestate', 'physicalweb', 'beacons', 'growthhacking', 'realestate', 'physicalweb', 'beacons', 'beacons', 'mus', 'lookingforward', 'growthhacking', 'realestate', 'physicalweb', 'beacons', 'beacons', 'beacons', 'mus', 'lookingforward', 'beacons', 'beacons', 'beacons', 'retail', 'marketing', 'beacons', 'drones', 'vr', 'beacons', 'retail', 'beacons', 'retail', 'beacontechnology', 'beacons', 'proximity', 'bigdata', 'iot', 'beacons', 'marketing', 'proximitymarketing', 'formazione', 'beacons', 'beacons', 'beacons', 'aricent', 'beacons', 'beacons', 'sensor', 'iot', 'aricent', 'beacons', 'sensors', 'iot', 'aricent', 'aricent', 'beacons', 'sensor', 'iot', 'proximity', 'bigdata', 'iot', 'beacons', 'market', 'proximity', 'bigdata', 'iot', 'beacons', 'marketing', 'beacons', 'iot', 'inter', 'beacons', 'iot', 'internetofthings', 'beacons', 'iot', 'beacons', 'bigdata', 'wearables', 'hackathon', 'timemanagement', 'rails', 'pitches', 'fooddesserts', 'hackathon', 'timemanagement', 'rails', 'pitches', 'fooddesserts', 'bullying', 'beacons', 'proximity', 'bigdata', 'iot', 'beacons', 'marketing', 'retailers', 'beacons', 'mobile', 'retailers', 'beacons', 'mobile', 'whizz', 'developed', 'world', 'solar', 'beacons', 'internetofthings', 'whizz', 'developed', 'world', 'solar', 'beacons', 'internetofthings', 'beacons', 'omnichannel', 'beacons', 'omnichannel', 'beacons', 'marketing', 'retargeting', 'beacons', 'coupons', 'beacons', 'shopping', 'retail', 'mobile', 'beacons', 'innovat', 'beacons', 'innovation', 'beacons', 'mus', 'lookingforward', 'iot', 'data', 'beacons', 'wearables', 'security', 'beacons', 'nrftechnology', 'allrecipes', 'beacons', 'nrf16', 'physicalweb', 'eddystone', 'beacons', 'todayinfood', 'brazilian', 'papayas', 'artificial', 'proximity', 'beacons', 'mobile', 'customerexperience', 'beacons', 'digital', 'beacons', 'beacons', 'iot', 'beacons', 'nrf16', 'mobile', 'beacons', 'growthhacking', 'physicalweb', 'growthhacking', 'realestate', 'physicalweb', 'beacons', 'bluetooth', 'beacons', 'ble', 'energyharvesting', 'mobile', 'beacons', 'localmarketing', 'beacons', 'iot', 'beacons', 'beacons', 'ibeacon', 'retail', 'digital', 'bluetooth', 'beacons', 'ble', 'energyharvesting', 'retailers', 'beacons', 'mobile', 'engagement', 'beacons', 'retailers', 'beacons', 'retail', 'ecommerce', 'cx', 'beacons', 'omnichannel', 'ecommerce', 'cx', 'beacons', 'omnichannel', 'beacons', 'data', 'beacons', 'beacons', 'brecon', 'beacons', 'inn', 'ukpubs', 'wearables', 'beacons', 'nfr2016', 'digitales', 'nationalhugday', 'iot', 'beacons', 'wearables', 'beacons', 'nfr2016', 'digitales', 'digitalforallnow', 'beacons', 'nationalhugday', 'iot', 'beacons', 'beacons', 'beacons', 'nrf16', 'findyourstuff', 'rfid', 'beacons', 'simplinic', 'ibeacons', 'beacons', 'startup', 'simplinic', 'ibeacons', 'startup', 'beacons', 'lbs', 'popup', 'connectedretail', 'beacons', 'beacons', 'augmentedreality', 'mobile', 'traveltech', 'beacons', 'enterprise', 'mastercard', 'cx', 'retailers', 'personalization', 'beacons', 'buybuttons', 'iot', 'convenience', 'beacons', 'iot', 'marketing', 'iot', 'beacons', 'iotcon', 'beacons', 'beacons', 'nrf16', 'beacons', 'beacons', 'beacons', 'beacons', 'beacons', 'wearables', 'fiturtech2016', 'selling', 'realestate', 'physicalweb', 'beacons', 'growthhacking', 'realestate', 'physicalweb', 'beacons', 'mobile', 'beacons', 'growthhacking', 'physicalweb', 'mobile', 'beacons', 'growthhacking', 'physicalweb', 'wi', 'beacons', 'retail', 'digital', 'northeast', 'beacons', 'beacons', 'beacons', 'aricent', 'beacons', 'sensor', 'iot', 'beacons', 'sensor', 'iot', 'aricent', 'mobile', 'proximity', 'beacons', 'macys', 'retail', 'mobilemarketing', 'beacons', 'beacons', 'ibeacon', 'retail', 'digital', 'beacons', 'beacons', 'proximity', 'beacons', 'iot', 'marketing', 'beacons', 'iot', 'appdevelopment', 'testing', 'beacons', 'retail', 'marketing', 'mobile', 'apps', 'beacons', 'ibeacon', 'retail', 'digital', 'beacons', 'beacons', 'ibeacon', 'retail', 'digital', 'beacons', 'digital', 'infographic', 'blogs', 'proximity', 'beacons', 'musee20', 'beacons', 'rfid', 'beacons', 'iot', 'appdevelopment', 'testing', 'story', 'beacons', 'future', 'proximity', 'beacon', 'hyperlocal', 'app', 'startup', 'beacons', 'ibeacons', 'bamberg', 'marketing', 'socialmedia', 'apps', 'beacons', 'customisation', 'convcomm', 'beacons', 'str', 'favendo', 'beacons', 'str', 'favendo', 'innovation', 'beacons', 'innovation', 'beacons', 'innovation', 'beacons', 'beacons', 'value', 'customerexperience', 'hotels', 'hospitality', 'marketing', 'beacons', 'retail', 'mobile', 'beacons', 'masscustom', 'iot', 'beacons', '3dprinting', 'oculus', 'beacons', 'beacons', 'beacons', 'mobile', 'beacons', 'mobile', 'beacons', 'mobilemarketing', 'nrf2016', 'retailers', 'consumerproducts', 'beacons', 'iot', 'internetofthings', 'nrf2016', 'retailers', 'consumerproducts', 'beacons', 'iot', 'internetofthings', 'beacons', 'mobilemarketing', 'beacons', 'iot', 'appdevelopment', 'testing', 'beacons', 'gatekeeper', 'woke', 'beacons', 'iot', 'beacons', 'beacons', 'fail', 'geotargeting', 'beacons', 'proximity', 'google', 'harvard', 'beacons', 'nfc', 'iot', 'beacons', 'ibm', 'proximity', 'beacons', 'nfc', 'nordstrom', 'beacons', 'custserv', 'beacons', 'proximitymarketing', 'mobile', 'beacons', 'apple', 'belk', 'retail', 'beacons', 'digitalmarketing', 'beacons', 'digitalmarketing', 'proximity', 'beacons', 'iot', 'marketing', 'beacons', 'personalization', 'omnichannel', 'ux', 're', 'beac', 'beacons', 'contentplus', 'proximity', 'beacons', 'iot', 'marketing', 'beacons', 'omnichannel', 'nettvardar', 'beacons', 'iot', 'beacons', 'retail', 'beacons', 'bigdata', 'analytics', 'mocaplatform', 'signup', 'proxim', 'beacons', 'beacons', 'bigdata', 'analytics', 'mocaplatform', 'signup', 'proximitymarketing', 'beacons', 'beacons', 'retail', 'beacons', 'beacons', 'retailers', 'beacons', 'mobile', 'beacons', 'beacons', 'retailers', 'beacons', 'mobile', 'beacons', 'indoorlocation', 'lifi', 'beacons', 'beacons', 'didyouknow', 'beacons', 'retailers', 'beacons', 'mobile', 'beacons', 'museums', 'retailers', 'beacons', 'mobile', 'beacons', 'beacons', 'nyc', 'beacons', 'ibeacon', 'nyc', 'beacons', 'ibeacon', 'nyc', 'beacons', 'ibeacon', 'beacons', 'museums', 'bestpractice', 'beacons', 'mobile', 'beacons', 'iot', 'nettvardar', 'beacons', 'retail', 'beacons', 'iot', 'beacons', 'iot', 'beacons', 'retailers', 'data', 'beacons', 'iot', 'beacons', 'handel', 'beacons', 'retail', 'ibeacon', 'customerservice', 'tech', 'beacons', 'beacons', 'beacons', 'airshipsko16', 'beacons', 'proximitymarketing', 'airshipsko16', 'beacons', 'proximitymarketing', 'retail', 'luxuryretail', 'beacons', 'technologie', 'crosscanal', 'labluxuryandretail', 'riteaid', 'proximity', 'beacons', 'stores', 'tech', 'beacons', 'retail', 'beacons', 'museumco', 'app', 'museumapp', 'beacons', 'beacons', 'museumco', 'musetech', 'magasins', 'beacons', 'tech', 'startup', 'digital', 'beacons', 'retailers', 'retailers', 'beacons', 'payments', 'stores', 'apexno16', 'beacons', 'bigdata', 'analytics', 'mocaplatform', 'signup', 'proximitymarketing', 'beacons', 'iot', 'disruptive', 'advertising', 'advertisingagency', 'ncrf', 'lima', 'iab', 'beacons', 'sensors', 'iot', 'internetoft', 'beacons', 'mus', 'lookingforward', 'retailers', 'beacons', 'payments', 'stores', 'apexno16', 'tech', 'disruptive', 'advertising', 'advertisingagency', 'ncrf', 'lima', 'iab', 'beacons', 'sensors', 'iot', 'internetof', 'umb19', 'beacons', 'disruptive', 'advertising', 'advertisingagency', 'ncrf', 'lima', 'iab', 'beacons', 'sensors', 'iot', 'internetofthings', 'mobile', 'beacons', 'iot', 'features', 'beacons', 'esri', 'beacons', 'wifi', 'apps', 'nrf16', 'retailers', 'beacons', 'beacons', 'beacons', 'mobilemarketing', 'beacons', 'beacons', 'mobilefirstlook', 'mobile', 'retail', 'marketing', 'vr', 'beacons', 'drones', 'beacons', 'mobilemarketing', 'beacons', 'beacons', 'lifi', 'beacons', 'benidorm', 'oferta', 'turistas', 'm', 'beacons', 'beacons', 'mobilemarketing', 'beacons', 'beacons', 'travel', 'benidorm', 'oferta', 'turistas', 'm', 'beacons', 'marketing', 'retail', 'ibeacon', 'beacons', 'mobilemarke', 'marketing', 'retail', 'ibeacon', 'beacons', 'mobilemarketing', 'analytics', 'shopping', 'iot', 'beacons', 'benidorm', 'oferta', 'turistas', 'm', 'beacons', 'benidorm', 'oferta', 'turistas', 'm', 'beacons', 'beacons', 'beacons', 'museumco', 'musetech', 'beacons', 'museumco', 'beacons', 'beacons', 'beacons', 'retailers', 'beacons', 'retailers', 'beacons', 'beacons', 'store', 'online', 'beacons', 'mocaplatform', 'signup', 'location', 'mo', 'store', 'online', 'beacons', 'mocaplatform', 'signup', 'location', 'mobilemarketing', 'beacons', 'shopperengagement', 'beacons', 'ibeacon', 'nrf16', 'ibeacon', 'beacons', 'ibe', 'nrf16', 'ibeacon', 'beacons', 'devfestparis', 'beacons', 'eddystone', 'knowledgeforall', 'nrf16', 'brands', 'customers', 'beacons', 'bigdata', 'analytics', 'location', 'nrf16', 'brands', 'customers', 'beacons', 'bigdata', 'analytics', 'location', 'beacons', 'mobile', 'beacons', 'crowd', 'density', 'data', 'notifications', 'mobiles', 'ibeacons', 'whitepaper', 'beacons', 'beacons', 'predictions', 'beacons', 'crowd', 'density', 'data', 'notifications', 'mobiles', 'beacons', 'crowd', 'density', 'data', 'notifications', 'mobiles', 'ibeacons', 'beacons', 'favendo', 'beacons', 'investment', 'tecnolog', 'beacons', 'visitbenidorm', 'tecnolog', 'beacons', 'visitbenidorm', 'beacons', 'experience', 'tecnolog', 'beacons', 'visitbenidorm', 'beacons', 'fashion', 'retail', 'beacons', 'marketing', 'fashion', 'retail', 'beacons', 'marketing', 'hotels', 'beacons', 'augmented', 'ibeacons', 'beacons', 'ibeacons', 'beacons', 'beacons', 'museumco', 'beacons', 'nfc', 'qrcodes', 'beacons', 'beacons', 'mus', 'lookingforward', 'beacons', 'retail', 'marketing', 'musee', 'museumlife', 'beacons', 'rfid', 'musee', 'museumlife', 'beacons', 'rfid', 'app', 'museumapp', 'beacons', 'beacons', 'museumco', 'musee', 'museumlife', 'beacons', 'rfid', 'beacons', 'museumco', 'musetech', 'beacons', 'museumco', 'beacons', 'te', 'beacons', 'multichannel', 'mobilepayment', 'beacons', 'multichannel', 'mobilepayment', 'beacons', 'tech', 'locatio', 'trafico', 'tienda', 'beacons', 'retail', 'tecnolog', 'beacons', 'mobile', 'advertising', 'beacons', 'beacons', 'beacons', 'tech', 'location', 'marketing', 'beacons', 'dig', 'beacons', 'digital', 'marketing', 'strategy', 'innovation', 'iot', 'beacons', 'digital', 'marketing', 'strategy', 'innovation', 'iot', 'beacons', 'digital', 'marketing', 'strategy', 'beacons', 'digital', 'marketing', 'strategy', 'innova', 'beacons', 'digital', 'marketing', 'strategy', 'innovation', 'iot', 'beacons', 'digital', 'marketing', 'strategy', 'innovation', 'iot', 'beacons', 'digital', 'marketing', 'strategy', 'innovation', 'iot', 'beacons', 'digital', 'marketing', 'strategy', 'innovation', 'iot', 'beacons', 'personalization', 'omnichannel', 'ux', 'retail', 'beacons', 'beacons', 'proximit', 'beacons', 'proximitymarketing', 'beacons', 'proximitymarketing', 'beacons', 'proximitymarketing', 'beacons', 'beacons', 'beacons', 'beacons', 'retail', 'beacons', 'wifi', 'apps', 'nrf16', 'beacons', 'beacons', 'beacons', 'beacons', 'beacons', 'beacons', 'beacons', 'iot', 'eddystone', 'privacy', 'beacons', 'beacons', 'beacons', 'beacons', 'sensors', 'iot', 'aricent', 'beacons', 'aricent', 'beacons', 'sensor', 'iot', 'beacons', 'sensor', 'iot', 'aricent', 'proximity', 'beacons', 'beacons', 'forgotten', 'beacons', 'abandoned', 'lighthouses', 'world', 'beacons', 'beacons', 'beacons', 'beacons', 'beacons', 'iot', 'beacons', 'beacons', 'beacons', 'beacons', 'nrf16', 'beacons', 'beacons', 'beacons', 'nrf16', 'beacons', 'nrf16', 'beacons', 'beacons', 'iot', 'beacons', 'retailers', 'con', 'beacons', 'nrf16', 'beacons', 'iot', 'beacons', 'nrf16', 'beacons', 'beacons', 'beacons', 'retailers', 'contentstrategy', 'beacons', 'retailers', 'contentst', 'beacons', 'nrf16', 'beacons', 'nrf16', 'targeted', 'mobile', 'advertising', 'beacons', 'beacons', 'beacons', 'iot', 'beacons', 'nrf16', 'beacons', 'retailers', 'contentstrategy', 'beacons', 'retailers', 'contentstrategy', 'beacons', 'beacons', 'beacons', 'nrf16', 'beacons', 'retailers', 'contentstrategy', 'retail', 'beacons', 'retailers', 'contentstrategy', 'dd20', 'beacons', 'dd20', 'beacons', 'dd20', 'beacons', 'dd20', 'beacons', 'beacons', 'nrf16', 'beacon', 'beacons', 'dd20', 'beacons', 'nrf16', 'beacons', 'beacons', 'retailers', 'contentstrategy', 'retail', 'marketing', 'mobile', 'beacons', 'retailers', 'contentstrategy', 'retail', 'market', 'beacons', 'facebook', 'bigdata', 'beacons', 'beacons', 'retailers', 'contentstrategy', 'retail', 'marketing', 'mobile', 'beacons', 'wifi', 'apps', 'nrf16', 'physicalweb', 'beac', 'retail', 'technologies', 'beacons', 'ecomme', 'retail', 'technologies', 'beacons', 'ecommerce', 'marketing', 'retail', 'technologies', 'beacons', 'ecomm', 'retail', 'technologies', 'beacons', 'ecommerce', 'marketing', 'beacons', 'eventtech', 'beacons', 'eventprofs', 'blog', 'beacons', 'ecommerce', 'beacons', 'wifi', 'apps', 'nrf16', 'blog', 'beacons', 'ecommerce', 'nearables', 'future', 'beacons', 'ibeacons', 'beacons', 'wifi', 'apps', 'nrf16', 'beacons', 'wifi', 'apps', 'nrf16', 'beacons', 'beacons', 'ble', 'ibeacon', 'beacons', 'beacons', 'wifi', 'apps', 'nrf16', 'dd20', 'beacons', 'tec', 'beacons', 'nrf16', 'beacons', 'wifi', 'apps', 'nrf16', 'beacons', 'hyperlocal', 'mobileadvertising', 'beacons', 'nrf16', 'dd20', 'beacons', 'tech', 'auto', 'beacons', 'wifi', 'mobile', 'beacons', 'events', 'beacons', 'beacons', 'wifi', 'beacons', 'wifi', 'beacons', 'beacons', 'marketing', 'beacons', 'masterclassinesdi', 'beacons', 'hyperlocal', 'beacons', 'hyperlocal', 'mobileadvertising', 'beacons', 'proximity', 'beacons', 'beacons', 'beacons', 'marketing', 'beacons', 'nrf16', 'beacons', 'mcommerce', 'rockvilla', 'beacons', 'buildingbettercommunities', 'nrf16', 'beacons', 'wifi', 'beacons', 'mobileengagement', 'nrf16', 'wifi', 'beacons', 'mobileengagement', 'nrf16', 'beacons', 'ble', 'nrf16', 'beacons', 'rockvilla', 'beacons', 'buildingbettercommunities', 'beacons', 'nrf16', 'brecon', 'beacons', 'wales', 'sun', 'beacons', 'gis', 'iot', 'laas', 'beacons', 'gis', 'iot', 'laas', 'beacon', 'beacons', 'nrf16', 'beacons', 'beacons', 'ble', 'beacons', 'ble', 'beacons', 'ble', 'nrf16', 'beacons', 'beacons', 'restaurants', 'nrf16', 'beacons', 'beacons', 'restaurants', 'nrf16', 'beacons', 'nrf16', 'proximity', 'beacons', 'iot', 'marketing', 'webinar', 'beacons', 'technology', '3963', 'retail', 'beacons', 'nrf16', 'beacons', 'ble', 'nrf16', 'iot', 'hardware', 'nyc', 'newyorkcity', 'brooklyn', 'hack', 'beacons', 'beacons', 'proximitymarketing', 'retail', 'beacons', 'nrf16', 'newwaytoengage', 'physicalweb', 'beacons', 'ble', 'beacons', 'nrf16', 'webinar', 'beacons', 'bluetooth', 'beacons', 'nhs', 'ble', 'beacons', 'iot', 'brands', 'bigdata', 'shopping', 'beacons', 'mobilecustomers', 'coupons', 'beacons', 'nrf16', 'beacons', 'beacons', 'iot', 'brands', 'bigdata', 'beacons', 'beacons', 'iot', 'brands', 'bigdata', 'digitalmarketing', 'nrf16', 'beacons', 'omnichannel', 'nrf16', 'beacons', 'omnichannel', 'findyourstuff', 'rfid', 'beacons', 'beacontechnology', 'beacons', 'beaconnews', 'bluup', 'webinar', 'beacons', 'beacons', 'beacons', 'museum', 'lookingforward', 'techtuesday', 'beacons', 'nrf16', 'beacons', 'mobile', 'digitalisation', 'chrd', 'beacons', 'cmx', 'beacons', 'lifi', 'beacons', 'beacons', 'innovation', 'mobile', 'nrf16', 'brands', 'customers', 'beacons', 'bigdata', 'analytics', 'location', 'nrf', 'beacons', 'rfid', 'retail', 'innovation', 'nrf16', 'brands', 'customers', 'beacons', 'bigdata', 'analytics', 'location', 'beacons', 'iot', 'beacons', 'targeted', 'mobile', 'advertising', 'beacons', 'retailtech', 'beacons', 'ecommerce', 'retail', 'beacons', 'beacons', 'financial', 'beacons', 'financial', 'webinar', 'beacons', 'nrf16', 'proximity', 'beacons', 'iot', 'marketing', 'targeted', 'mobile', 'advertising', 'beacons', 'ibeacon', 'beacons', 'estimote', 'beacons', 'ibeacon', 'technology', 'retailnews', 'schiphol', 'beacons', 'shopping', 'cx', 'london', 'beacons', 'beacons', 'beacontechnology', 'wifibeacons', 'marketing', 'advertising', 'lighting', 'beacons', 'cars', 'autoparts', 'ibeacon', 'beacons', 'sant', 'bigdata', 'beacons', 'wearables', 'security', 'shoppingapp', 'shoppingapp', 'beacons', 'beacons', 'mus', 'ibeacon', 'appsparaeventos', 'beacons', 'shopping', 'beacons', 'beacons', 'mus', 'ibeacon', 'webinar', 'beacons', 'webinar', 'beacons', 'retailers', 'beacons', 'engagement', 'cx', 'instore', 'bluetooth', 'mobile', 'beacons', 'webinar', 'beacons', 'mobileengagement', 'ibeacon', 'beacons', 'sant', 'beacons', 'webinar', 'beacons', 'polish', 'webinar', 'beacons', 'beacons', 'webinar', 'webinar', 'beacons', 'beacons', 'sensors', 'iot', 'aricent', 'iot', 'ble', 'beacons', 'webinar', 'beacons', 'aricent', 'beacons', 'sensor', 'iot', 'beacons', 'webinar', 'beacons', 'sensor', 'iot', 'aricent', 'beacons', 'webinar', 'targeted', 'mobile', 'advertising', 'beacons', 'webinar', 'beacons', 'beacons', 'iot', 'ble', 'beacons', 'webinar', 'beacons', 'beacons', 'beacons', 'beacons', 'retail', 'beacons', 'webinar', 'beacons', 'webinar', 'beacons', 'loyalty', 'loyaltyapp', 'beacons', 'beacons', 'retail', 'webinar', 'beacons', 'webinar', 'beacons', 'webinar', 'beacons', 'beacons', 'beacons', 'beacons', 'nrf16', 'beacons', 'nrf16', 'beacons', 'nrf16', 'beacons', 'nrf16', 'beacons', 'nrf16', 'beacons', 'nrf16', 'beacons', 'mus', 'lookingforward', 'beacons', 'store', 'online', 'beacons', 'mocaplatform', 'signup', 'location', 'mobilemarketing', 'beacons', 'beacons', 'mobile', 'nrf16', '3d', 'beacons', 'nrf16', '3d', 'beacons', 'beacons', 'beacons', 'mobile', 'iot', 'bigdata', 'beacons', 'wearables', 'security', 'beacons', 'mobile', 'beacons', 'mus', 'lookingforward', 'eventtech', 'beacons', 'eventprofs', 'beacons', 'beacons', 'mus', 'lookingforward', 'beacons', 'mobile', 'beacons', 'mobile', 'beacons', 'nrf16', 'beacons', 'beacons', 'beacons', 'beacons', 'beacons', '11ac', 'ble', 'beacons', 'tro', 'beacons', '11ac', 'ble', 'beacons', 'nrf16', 'ibeacon', 'technology', 'estimote', 'bluetooth', 'beacons', 'thephysicalweb', 'eddystone', 'beacons', 'beacons', 'ble', 'beacons', 'nrf16', 'beacons', 'nrf16', 'beacons', 'beacons', 'nrf16', 'beacons', 'beacons', 'beacons', 'ibeacons', 'mobile', 'infographic', 'beacons', 'retailers', 'beacons', 'ble', 'nrf16', 'emv', 'beacons', 'mpos', 'mobile', 'marketing', 'beacons', 'proximityid', 'cx', 'mobile', 'marketing', 'beacons', 'proximityid', 'cx', 'mobile', 'marketing', 'beacons', 'proximityid', 'cx', 'beacons', 'nrf16', 'beacons', 'nrf16', 'beacons', 'nrf16', 'beacons', 'facebook', 'bigdata', 'beacons', 'facebook', 'bigdata', 'beacons', 'facebook', 'bigdata', 'bigdata', 'beacons', 'wearables', 'security', 'beacons', 'ble', 'nrf16', 'gps', 'wifi', 'bluetooth', 'beacons', 'vlc', 'beacons', 'i', 'iot', 'iiot', 'm2m', 'datascience', 'bigdata', 'beacons', 'infosec', 'beacons', 'wifi', 'beacons', 'mobileengagement', 'nrf16', 'beacons', 'beacons', 'nrf16', 'retail', 'nonsense', 'iot', 'beacons', 'customisation', 'beacons', 'nrf16', 'contextmatters', 'iot', 'beacons', 'gps', 'wifi', 'bluetooth', 'beacons', 'vlc', 'ledlighting', 'data', 'beacons', 'ibeacon', 'ble', 'beacons', 'connecthings', 'smartcities', 'beacons', 'eventtech', 'beacons', 'eventprofs', 'iot', 'beacons', 'ibeacons', 'nrf16', 'beacons', 'retail', 'mpos', 'eventtech', 'beacons', 'eventprofs', 'beacons', 'mobile', 'nrf16', 'retail', 'tech', 'nrf16', 'beacons', 'retail', 'mpos', 'iot', 'beacons', 'retailers', 'beacons', 'retailers', 'beacons', 'beacons', 'beacons', 'iot', 'ibeacons', 'beacons', 'dmp', 'beacons', 'beacons', 'iot', 'ibeacons', 'ibeacon', 'beacons', 'beacons', 'mobilecommerce', 'beacons', 'mobilecommerce', 'beacons', 'history', 'beacons', 'beacons', 'beacons', 'beacons', 'beacons', 'i', 'brillo', 'weave', 'beacons', 'beacons', 'retail', 'mobileproximity', 'beacons', 'iot', 'google', 'eddystone', 'beacons', 'internetoft', 'beacons', 'mus', 'lookingforward', 'beacons', 'mus', 'lookingforward', 'beacons', 'mus', 'lookingforward', 'proximity', 'marketing', 'beacons', 'beacons', 'ibeacon', 'retail', 'beacons', 'retail', 'sales', 'targeted', 'mobile', 'advertising', 'beacons', 'iot', 'beacons', 'analytics', 'iot', 'beacons', 'analytics', 'iot', 'beacons', 'analytics', 'retail', 'beacons', 'mpos', 'reinventingpayments', 'nrf16', 'iot', 'beacons', 'analytics', 'iot', 'google', 'eddystone', 'beacons', 'internetoft', 'beacons', 'iot', 'google', 'eddystone', 'beacons', 'internetofthi', 'mobile', 'beacons', 'iot', 'google', 'eddystone', 'beacons', 'internetoft', 'iot', 'google', 'eddystone', 'beacons', 'internetofthings', 'beacons', 'mus', 'lookingforward', 'targeted', 'mobile', 'advertising', 'beacons', 'mobile', 'beacons', 'bluetooth', 'beacons', 'tracking', 'meraki', 'cloudmanagednetworking', 'iot', 'beacons', 'analytics', 'bluetooth', 'beacons', 'tracking', 'meraki', 'cloudmanagednetworking', 'beacons', 'mus', 'lookingforward', 'digital', 'beacons', 'sunset', 'movienight', 'beacons', 'beachlife', 'leucadia', 'beacons', 'beacons', 'brands', 'beacons', 'mobilewallets', 'ibmretail', 'nrf16', 'beacons', 'iot', 'omnichannel', 'ecommerce', 'beacons', 'proximity', 'marketing', 'beacons', 'beacons', 'geoalerts', 'mobile', 'beacons', 'retail', 'sales', 'mobile', 'beacons', 'beacons', 'mus', 'lookingforward', 'mobile', 'beacons', '11ac', 'wifi', 'ble', 'beacons', 'nrf16', '11ac', 'ble', 'beacons', 'objc', 'beacons', 'beacons', 'brands', 'beacons', 'mobilewallets', 'retail', 'nrf16', 'rfid', 'beacons', 'beacons', 'targeting', 'target', 'mcdonalds', 'macys', 'location', 'beacons', 'targeting', 'target', 'mcdonalds', 'macys', 'location', 'nrf16', 'futureofretail', 'iot', 'beacons', 'proximity', 'marketing', 'beacons', 'rappermood', 'unionsq', 'beacons', 'nyc', 'manhattan', 'snowingoutside', 'nrf16', 'futureofretail', 'iot', 'beacons', 'geo', 'nrf16', 'futureofretail', 'iot', 'beacons', 'proximity', 'marketing', 'beacons', '11ac', 'wifi', 'ble', 'beacons', 'nrf16', 'wirdoo', 'nyc', 'beacons', 'unionsq', 'manhattan', 'nrf16', 'futureofretail', 'iot', 'beacons', 'geomarketing', 'proximity', 'marketing', 'beacons', 'proximity', 'marketing', 'beacons', 'proximity', 'marketing', 'beacons', 'nrf16', 'futureofretail', 'iot', 'beacons', 'geomar', 'beacons', 'mobile', 'proximity', 'marketing', 'beacons', 'nrf16', 'futureofretail', 'iot', 'beacons', 'geomarketing', 'proximity', 'marketing', 'beacons', 'proximity', 'marketing', 'beacons', 'proximity', 'marketing', 'beacons', '11ac', 'wifi', 'ble', 'beacons', 'nrf16', 'nrf16', 'futureofretail', 'iot', 'beacons', 'geomarketing', 'beacons', 'beacons', 'retail', 'beacons', 'retail', 'beacons', 'beacons', 'wifi', 'beacons', 'wifi', 'beacons', 'ble', 'beacons', 'beacons', 'retail', 'love', 'loyalty', 'beacons', '11ac', 'ble', 'beacons', '11ac', 'ble', 'beacons', 'nrf16', 'beacons', 'nrf16', 'beacons', 'ble', 'nrf16', 'targeted', 'mobile', 'advertising', 'beacons', 'targeted', 'mobile', 'advertising', 'beacons', 'ibmretail', 'nrf16', 'locationanalytics', 'beacons', 'beacons', 'mus', 'lookingforward', 'beacons', 'digital', 'retail', 'ble', 'beacons', 'nrf16', 'beacons', 'mus', 'lookingforward', '11ac', 'wifi', 'ble', 'beacons', 'nrf16', 'beacons', 'mus', 'lookingforward', 'beacons', 'mus', 'lookingforward', 'ibmretail', 'nrf16', 'locationanalytics', 'beacons', 'beacons', 'mus', 'lookingforward', 'beacons', 'beacons', 'mus', 'lookingforward', 'earthly', 'heavenly', 'beacons', 'rotterdam', 'centralstation', 'verifone', 'beacons', 'customerexperience', 'beacons', 'mus', 'lookingforward', '11ac', 'wifi', 'ble', 'beacons', 'nrf16', 'beacons', 'mus', 'lookingforward', 'beacons', 'mus', 'lookingforward', 'beacons', 'mus', 'lookingforward', 'wifi', 'beacons', 'mobileengagement', 'nrf16', 'beacons', 'mus', 'lookingforward', 'beacons', 'mus', 'lookingforward', 'beacons', 'mus', 'lookingforward', 'beacons', 'mus', 'lookingforward', 'beacons', 'mus', 'lookingforward', 'beacon', 'beacons', 'marketingtech', 'personalizationtech', 'beacons', 'travel', 'future', 'tech', 'ibeacons', 'beacons', 'mus', 'lookingforward', 'nrf16', 'beacons', 'tracking', '360customer', 'personalization', 'beacons', 'mus', 'lookingforward', 'beacons', 'mus', 'lookingforward', 'beacons', 'risenyc16', 'ble', 'beacons', 'nrf16', 'nrf16', 'emv', 'beacons', 'mpos', 'beacons', 'retail', 'retail', 'beacons', 'mpos', 'reinventingpayments', 'nrf16', 'nrf16', 'emv', 'beacons', 'mpos', 'beacons', 'retail', 'proximity', 'analytics', 'engagement', 'mwc15', 'whitepaper', 'beacons', 'proximity', 'analytics', 'engagement', 'mwc15', 'whitepaper', 'beacons', 'ioe', 'iot', 'mcommerce', 'beacons', 'offlinetoonline', 'run', 'frost', 'sunrise', 'quantocks', 'snow', 'beacons', 'run', 'frost', 'sunrise', 'quantocks', 'snow', 'beacons', 'run', 'frost', 'sunrise', 'quantocks', 'snow', 'beacons', 'nrf16', 'emv', 'beacons', 'mpos', 'ces', 'beacons', 'mtb', 'beacons', 'evoc', 'urge', 'giantbikes', 'list', 'beacons', 'nrf16', 'mobilemarketing', 'beacons', 'retail', 'mcdonaldus', 'macys', 'nrf16', 'mobilemarketing', 'beacons', 'retail', 'mcdonaldus', 'macys', 'beacons', 'app', 'vc', 'retail', 'entrepreneur', 'beacons', 'tech', 'beacons', 'beacons', 'nrf16', 'sunset', 'movienight', 'beacons', 'beachlife', 'leucadia', 'beacons', 'nrf16', 'dataanalytics', 'beacons', 'retailanalytics', 'retail', 'beacons', 'retail', 'nrf16', 'ces', 'beacons', 'retail', 'nrf16', 'rfid', 'beacons', 'beacons', 'beacons', 'beacons', 'beacons', 'retail', 'innovation', 'beacons', 'iot', 'http', 'beacons', 'beacons', 'beacons', 'risenyc', 'beacons', 'beacons', 'risenyc16', 'retail', 'beacons', 'mpos', 'reinventingpayments', 'nrf16', 'beacons', 'beacons', 'risenyc16', 'owenteale', 'beacons', 'beacons', 'ibeacons', 'beacons', 'beacons', 'risenyc16', 'beacons', 'risenyc', 'beacons', 'retail', 'beacons', 'risenyc16', 'fx', 'boss', 'johnlandgraf', 'broadcast', 'nets', 'beacons', 'quality', 'tv', 'platinum', 'age', 'beacons', 'beacons', 'risenyc16', 'beacons', 'ris', 'beacons', 'beacons', 'beacons', 'risenyc16', 'beacons', 'app', 'marketing', 'beacons', 'apps', 'beacons', 'mobile', 'retailers', 'beacons', 'advertisingtech', 'apps', 'beacons', 'detroit', 'beacons', 'iot', 'proximitymarketing', 'automotive', 'caughtoutinmud', 'beacons', 'cold', 'pats', 'beacons', 'brecon', 'beacons', 'norway', 'beacons', 'beacons', 'beacons', 'roiss', 'nrf16', 'beacons', 'roiss', 'nrf16', 'iot', 'beacons', 'beacons', 'iot', 'beacons', 'retailers', 'beacons', 'objc', 'beacons', 'ecommerce', 'mcommerce', 'mobilewallet', 'flashsale', 'beacons', 'retailers', 'dataanalytics', 's', 'startup', 'beacons', 'beacons', 'beacons', 'list', 'beacons', 'beacons', 'beacons', 'retailers', 'instore', 'ux', 'payments', 'bluetooth', 'mobileapp', 'notifications', 'beacons', 'digitalretail', 'nfc', 'qr', 'beacons', 'ecommerce', 'mcommerce', 'mobilewallet', 'flashsale', 'beacons', 'retailers', 'dataanalytics', 'socialcommerce', 'beacons', 'beacons', 'iot', 'objc', 'beacons', 'objc', 'beacons', 'objc', 'beacons', '3', 'beacons', 'beacons', 'connectedcities', 'beacons', 'retail', 'lbs', 'beacons', 'pos', 'customerjourney', 'run', 'frost', 'sunrise', 'quantocks', 'snow', 'beacons', 'beacons', 'beacons', 'beacons', 'owenteale', 'beacons', 'retail', 'beacons', 'mpos', 'reinventingpayments', 'nrf16', 'lovelivemusic', 'listenlocal', 'thevous', 'beacons', 'supportlocalmusic', 'blogs', 'proximity', 'beacons', 'beacons', 'retailtech', 'ecommerce', 'amazon', 'facebook', 'beacons', 'alibaba', 'beacons', 'retail', 'factfriday', 'beacons', 'retail', 'factfriday', 'beacons', 'retail', 'factfriday', 'nrf16', 'beacons', 'nrf16', 'beacons', 'nrf16', 'beacons', 'nrf16', 'beacons', 'nrf16', 'beacons', 'iot', 'beacons', 'cloud', 'bigdata', 'os', 'analytics', 'leadership', 'technology', 'iot', 'beacons', 'cloud', 'bigdata', 'os', 'analytics', 'leadership', 'technology', 'iot', 'beacons', 'cloud', 'bigdata', 'os', 'analytics', 'leadership', 'technology', 'beacons', 'beacons', 'restaurants', 'beacons', 'beacons', 'restaurants', 'beacons', 'beacons', 'ekoor', 'kickstarter', 'beacons', 'gatewaydata', 'ekoor', 'kickstarter', 'beacons', 'gatewaydata', 'ekoor', 'kickstarter', 'beacons', 'gatewaydata', 'smartretail', 'smartretail', 'beacons', 'beacons', 'beacons', 'indoorlocation', 'ibeacon', 'beacons', 'beacons', 'beacons', 'indoorlocation', 'ibeacon', 'beacons', 'museums', 'lookingforward', 'beacons', 'museums', 'lookingforward', 'beacons', 'indoorlocation', 'ibeacon', 'beacons', 'beacons', 'indoorlocation', 'ibeacon', 'estimote', 'beacons', 'mobile', 'proximity', 'beacons', 'bluetooth', 'beacons', 'retail', 'beacons', 'mpos', 'reinventingpayments', 'nrf16', 'beacons', 'estimote', 'startups', 'becontag', 'beacons', 'beacons', 'supermarket', 'retail', 'beacons', 'mpos', 'reinventingpayments', 'nrf16', 'retail', 'beacons', 'mpos', 'reinventingpayments', 'nrf16', 'beacons', 'beacons', 'microlocation', 'realtime', 'context', 'possibilities', 'iot', 'beacons', 'beacons', 't', 'beacons', 'beacons', 'beacons', 'ibeacon', 'eddystone', 'beacons', 'ibeacon', 'eddystone', 'beacons', 'ibeacon', 'eddystone', 'beacons', 'beacons', 'estimote', 'startups', 'tc', 'venturecapital', 'beacons', 'sdk', 'apps', 'beacons', 'polish', 'siliconvalley', 'angelinvesting', 'boulder', 'beacons', 'beacons', 'beacons', 'retail', 'nrf16', 'rfid', 'beacons', 'beacons', 'emergingtechnology', 'beacons', 'doyououli', 'beacons', 'apps', 'hero', 'beacons', 'mobile', 'couponing', 'beacons', 'proximityid', 'nfcindubai', 'dubai', 'couponing', 'beacons', 'proximityid', 'couponing', 'beacons', 'proximityid', 'beacons', 'iot', 'beacons', 'hardware', 'retailers', 'beacons', 'infographic', 'beacons', 'travel', 'mobile', 'proximity', 'beacons', '2016', 'beacons', 'beacons', 'nrf16', 'physicalweb', 'beacons', 'iot', 'retail', 'fundingsexits', 'startups', 'tc', 'estimote', 'beacons', 'technology', 'music', 'beacons', 'mobile', 'beacons', 'nrf16', 'beacons', 'mobile', 'beacons', 'sitem2016', 'rfid', 'beacons', 'innovation', 'museumli', 'beacons', 'grocery', 'beacons', 'grocery', 'beacons', 'grocery', 'beacons', 'tv', 'wechat', 'chine', 'beacons', 'bea', 'beacons', 'iot', 'beacons', 'beacons', 'app', 'beacons', 'nrf16', 'beacons', 'beacons', 'digitalmedia', 'fundingsexits', 'startups', 'tc', 'estimote', 'beacons', 'fundingsexits', 'startups', 'tc', 'estimote', 'beacons', 'christian', 'vc', 'news', 'fundingsexits', 'startups', 'tc', 'estimote', 'beacons', 'beacons', 'app', 'retailers', 'cx', 'personalization', 'socialcommerce', 'payments', 'beacons', 'instore', 'apps', 'goodbarber', 'estimote', 'beacons', 'beacons', 'nrf16', 'beacons', 'nrf16', 'beacons', 'nrf16', 'beacons', 'nrf16', 'beacons', 'nrf16', 'beacons', 'nrf16', 'beacons', 'nrf16', 'beacons', 'nrf16', 'beacons', 'nrf16', 'iot', 'google', 'eddystone', 'beacons', 'internetofthi', 'iot', 'google', 'eddystone', 'beacons', 'internetofthings', 'beacons', 'beacons', 'mobile', 'beacons', 'mobile', 'beacons', 'mobile', 'retail', 'beacons', 'retail', 'beacons', 'ibeacons', 'beacons', 'beacons', 'nrf16', 'beacons', 'nrf16', 'beacons', 'nrf16', 'beacons', 'nfc', 'beacons', 'retail', 'beacons', 'mobile', 'proximity', 'beacons', '2016', 'loca', 'conference', 'beacons', 'lbs', 'privacy', 'dataprotection', 'airports', 'beacons', 'beacons', 'beacons', 'sitem2016', 'rfid', 'beacons', 'innovation', 'museumli', 'sitem2016', 'rfid', 'beacons', 'innovation', 'museumli', 'sitem2016', 'rfid', 'beacons', 'innovation', 'museumlive', 'beacons', 'beacons', 'beacons', 'beacons', 'beacons', 'beacons', 'screenlink', 'warble', 'beacons', 'gps', 'beacons', 'beacons', 'ibeacons', 'eddystone', 'beacons', 'ibeacons', 'eddystone', 'beacons', 'ibeacons', 'eddystone', 'beacons', 'beamo', 'beacons', 'museum', 'beacons', 'beamo', 'opensource', 'bluetooth', 'beacons', 'google', 'iot', 'beacons', 'mus', 'lookingforward', 'nrf16', 'digital', 'beacons', 'beacons', 'macys', 'retail', 'mobilemarketing', 'beacons', 'beacons', 'beacons', 'beaconindia', 'beacons', 'wifibeacons', 'ibeacontechnology', 'macys', 'retail', 'beacons', 'iot', 'beacons', '3dprinters', 'vr', 'apps', 'beacons', 'wifi', 'askaruba', 'nrf16', 'beacons', 'innovation', 'fintech', 'digital', 'beacons', 'beacons', 'innovation', 'fintech', 'digital', 'beacons', 'beacons', 'innovation', 'fintech', 'digital', 'beacons', 'digitalmedia', 'beacons', 'hospital', 'beacons', 'cx', 'uidesign', 'ecommerce', 'beacons', 'omnichannel', 'ecommerce', 'beacons', 'omnichannel', 'ecommerce', 'beacons', 'omnichannel', 'beacons', 'digitalmedia', 'beacons', 'comer', 'negocis', 'beacons', 'travel', 'ibeacons', 'beacons', 'retailtech', 'beacons', 'ecommerce', 'retail', 'mobile', 'marketing', 'beacons', 'business', 'smallbiz', 'mobile', 'marketing', 'beacons', 'google', 'iot', 'beacons', 'beacons', 'innovation', 'fintech', 'digital', 'cx', 'beacons', 'apps', 'beacons', 'wifi', 'askaruba', 'nrf16', 'shoppers', 'beacons', 'shoppers', 'beacons', 'beacons', 'retailtech', 'beacons', 'ecommerce', 'retail', 'retailtech', 'beacons', 'ecommerce', 'retail', 'apps', 'beacons', 'wifi', 'askaruba', 'nrf16', 'beacons', 'black', 'heating', 'smartwifi', 'beacons', 'newtech', 'alwayson', 'rfid', 'iot', 'beacons', 'ecommerce', 'tbt', 'beacons', 'wechatpay', 'retailtech', 'iot', 'beacons', 'iot', 'beacons', 'beacons', 'mobile', 'iot', 'beacons', 'beacons', 'apple', 'google', 'apps', 'beacons', 'wifi', 'askaruba', 'nrf16', 'apps', 'beacons', 'wifi', 'askaruba', 'nrf16', 'apps', 'beacons', 'wifi', 'askaruba', 'nrf16', 'apps', 'beacons', 'wifi', 'askaruba', 'nrf16', 'apps', 'beacons', 'wifi', 'askaruba', 'nrf16', 'solar', 'led', 'marine', 'beacons', 'retailers', 'beacons', 'retailers', 'beacons', 'masscustomization', 'internetofthings', 'beacons', '3dprinting', 'virtualreality', 'beacons', 'drones', 'smartfabrics', 'beacons', 'drones', 'smartfabrics', 'avisinsidersmadrid', 'beacons', 'art', 'retailers', 'beacons', 'customerexperience', 'cx', 'iot', 'beacons', 'wearables', 'reality', 'iot', 'beacons', 'reality', 'iot', 'beacons', 'masscustom', 'iot', 'beacons', '3dprinting', 'oculus', 'avisinsidersmadrid', 'beacons', 'art', 'ecommerce', 'tbt', 'beacons', 'wechatpay', 'retail', 'beacons', 'beacons', 'nrf16', 'beacons', 'nrf16', 'beacons', 'nrf16', 'beacons', 'beacons', 'patient', 'beacons', 'gps', 'beacons', 'avisinsidersmadrid', 'beacons', 'arte', 'madrid', 'tech', 'job', 'python', 'beacons', 'findyourstuff', 'rfid', 'beacons', 'beacons', 'ibeacon']\n"
     ]
    }
   ],
   "source": [
    "temph = []\n",
    "for ahashtag in allhashtags:\n",
    "    for x in range(len(ahashtag)):\n",
    "        temph.append(ahashtag[x].lower())\n",
    "\n",
    "print temph\n",
    "#print len(temph)"
   ]
  },
  {
   "cell_type": "code",
   "execution_count": 146,
   "metadata": {
    "collapsed": false
   },
   "outputs": [
    {
     "name": "stdout",
     "output_type": "stream",
     "text": [
      "[('iot', 144), ('retail', 99), ('mobile', 77), ('marketing', 56), ('retailers', 42), ('bigdata', 42), ('proximity', 38), ('ibeacon', 37), ('lookingforward', 36), ('ble', 35), ('mus', 35), ('wifi', 32), ('ibeacons', 25), ('digital', 25), ('rfid', 24), ('webinar', 23), ('apps', 23), ('innovation', 21), ('ecommerce', 19), ('eddystone', 19), ('analytics', 18), ('wearables', 18), ('omnichannel', 16), ('proximitymarketing', 15), ('physicalweb', 15), ('mobilemarketing', 14), ('internetofthings', 14), ('google', 14), ('mpos', 13), ('loyalty', 13), ('cx', 13), ('advertising', 13), ('aricent', 12)]\n"
     ]
    }
   ],
   "source": [
    "hashtag_dict = defaultdict(int)\n",
    "\n",
    "for hashtagx in temph:\n",
    "    hashtag_dict[hashtagx] += 1\n",
    "    sorted_hashtags = sorted(hashtag_dict.items(), key=itemgetter(1), reverse=True)       \n",
    "print sorted_hashtags[2:35]\n",
    "datah = sorted_hashtags[2:35]\n",
    "#print hashtag_dict"
   ]
  },
  {
   "cell_type": "code",
   "execution_count": 147,
   "metadata": {
    "collapsed": false
   },
   "outputs": [
    {
     "data": {
      "text/html": [
       "<div>\n",
       "<table border=\"1\" class=\"dataframe\">\n",
       "  <thead>\n",
       "    <tr style=\"text-align: right;\">\n",
       "      <th></th>\n",
       "      <th>count</th>\n",
       "    </tr>\n",
       "    <tr>\n",
       "      <th>hashtags</th>\n",
       "      <th></th>\n",
       "    </tr>\n",
       "  </thead>\n",
       "  <tbody>\n",
       "    <tr>\n",
       "      <th>iot</th>\n",
       "      <td>144</td>\n",
       "    </tr>\n",
       "    <tr>\n",
       "      <th>retail</th>\n",
       "      <td>99</td>\n",
       "    </tr>\n",
       "    <tr>\n",
       "      <th>mobile</th>\n",
       "      <td>77</td>\n",
       "    </tr>\n",
       "    <tr>\n",
       "      <th>marketing</th>\n",
       "      <td>56</td>\n",
       "    </tr>\n",
       "    <tr>\n",
       "      <th>retailers</th>\n",
       "      <td>42</td>\n",
       "    </tr>\n",
       "  </tbody>\n",
       "</table>\n",
       "</div>"
      ],
      "text/plain": [
       "           count\n",
       "hashtags        \n",
       "iot          144\n",
       "retail        99\n",
       "mobile        77\n",
       "marketing     56\n",
       "retailers     42"
      ]
     },
     "execution_count": 147,
     "metadata": {},
     "output_type": "execute_result"
    }
   ],
   "source": [
    "dfh = pd.DataFrame(datah)\n",
    "dfh.columns = ['hashtags','count']\n",
    "dfh = dfh.set_index('hashtags')\n",
    "dfh.head()\n"
   ]
  },
  {
   "cell_type": "code",
   "execution_count": 149,
   "metadata": {
    "collapsed": false
   },
   "outputs": [
    {
     "data": {
      "image/png": "[encoded data removed]",
      "text/plain": [
       "<matplotlib.figure.Figure at 0x10fbf2950>"
      ]
     },
     "metadata": {},
     "output_type": "display_data"
    }
   ],
   "source": [
    "my_plot = dfh.head(25)\n",
    "my_plot = my_plot.sort('count',ascending=False).plot(kind = 'bar', legend = None, title = 'Top Hashtags Associated with #beacons')\n",
    "my_plot.set_xlabel('Hashtags')\n",
    "my_plot.set_ylabel('Count')\n",
    "plt.show()"
   ]
  },
  {
   "cell_type": "markdown",
   "metadata": {},
   "source": [
    "### Username Analysis"
   ]
  },
  {
   "cell_type": "code",
   "execution_count": 141,
   "metadata": {
    "collapsed": false
   },
   "outputs": [
    {
     "name": "stdout",
     "output_type": "stream",
     "text": [
      "['Verifone', 'Allrecipes', 'RebaHow']\n"
     ]
    }
   ],
   "source": [
    "username_regex = re.compile(r\"(?<=@)\\w+\") #use (?<=@)\\w+ to show @\n",
    "allusernames = []\n",
    "for atweet in alltweets:\n",
    "    match = re.findall(username_regex, str(atweet))\n",
    "    if match:\n",
    "        allusernames.append(match)\n",
    "\n",
    "print allusernames[0]"
   ]
  },
  {
   "cell_type": "code",
   "execution_count": 88,
   "metadata": {
    "collapsed": false
   },
   "outputs": [
    {
     "name": "stdout",
     "output_type": "stream",
     "text": [
      "1192\n"
     ]
    }
   ],
   "source": [
    "tempu = []\n",
    "for ausername in allusernames:\n",
    "    for y in range(len(ausername)):\n",
    "        tempu.append(ausername[y])\n",
    "\n",
    "#print temph\n",
    "print len(tempu)"
   ]
  },
  {
   "cell_type": "code",
   "execution_count": 133,
   "metadata": {
    "collapsed": false
   },
   "outputs": [
    {
     "name": "stdout",
     "output_type": "stream",
     "text": [
      "[('Verifone', 71), ('ArubaNetworks', 45), ('orange', 36), ('Allrecipes', 31), ('RebaHow', 27), ('Estimote', 25), ('Beaconstac', 21), ('alanjni', 21), ('Unacast', 17), ('VenueNext', 17), ('MobileStrat360', 15), ('geomarketing', 15), ('pymnts', 14), ('Mobile360Katie', 13), ('MCommerceDaily', 12), ('easymobilad', 11), ('riteaid', 11), ('networkworld', 10), ('next2uApp', 10), ('pavelradda', 10)]\n"
     ]
    }
   ],
   "source": [
    "username_dict = defaultdict(int)\n",
    "\n",
    "for usernamey in tempu:\n",
    "    username_dict[usernamey] += 1\n",
    "    sorted_username = sorted(username_dict.items(), key=itemgetter(1), reverse=True)       \n",
    "print sorted_username[:20]\n",
    "datau = sorted_username[:20]\n",
    "#print username_dict"
   ]
  },
  {
   "cell_type": "code",
   "execution_count": 139,
   "metadata": {
    "collapsed": false
   },
   "outputs": [
    {
     "data": {
      "text/html": [
       "<div>\n",
       "<table border=\"1\" class=\"dataframe\">\n",
       "  <thead>\n",
       "    <tr style=\"text-align: right;\">\n",
       "      <th></th>\n",
       "      <th>count</th>\n",
       "    </tr>\n",
       "    <tr>\n",
       "      <th>username</th>\n",
       "      <th></th>\n",
       "    </tr>\n",
       "  </thead>\n",
       "  <tbody>\n",
       "    <tr>\n",
       "      <th>Verifone</th>\n",
       "      <td>71</td>\n",
       "    </tr>\n",
       "    <tr>\n",
       "      <th>ArubaNetworks</th>\n",
       "      <td>45</td>\n",
       "    </tr>\n",
       "    <tr>\n",
       "      <th>orange</th>\n",
       "      <td>36</td>\n",
       "    </tr>\n",
       "    <tr>\n",
       "      <th>Allrecipes</th>\n",
       "      <td>31</td>\n",
       "    </tr>\n",
       "    <tr>\n",
       "      <th>RebaHow</th>\n",
       "      <td>27</td>\n",
       "    </tr>\n",
       "  </tbody>\n",
       "</table>\n",
       "</div>"
      ],
      "text/plain": [
       "               count\n",
       "username            \n",
       "Verifone          71\n",
       "ArubaNetworks     45\n",
       "orange            36\n",
       "Allrecipes        31\n",
       "RebaHow           27"
      ]
     },
     "execution_count": 139,
     "metadata": {},
     "output_type": "execute_result"
    }
   ],
   "source": [
    "dfu = pd.DataFrame(datau)\n",
    "dfu.columns = ['username','count']\n",
    "dfu = dfu.set_index('username')\n",
    "dfu.head()"
   ]
  },
  {
   "cell_type": "code",
   "execution_count": 136,
   "metadata": {
    "collapsed": false
   },
   "outputs": [
    {
     "data": {
      "image/png": "[encoded data removed]",
      "text/plain": [
       "<matplotlib.figure.Figure at 0x10fc97f50>"
      ]
     },
     "metadata": {},
     "output_type": "display_data"
    }
   ],
   "source": [
    "my_plotu = dfu.head(20)\n",
    "my_plotu = my_plotu.sort('count').plot(kind = 'barh', legend = None, title = 'Top Users Associated with #beacons')\n",
    "my_plotu.set_xlabel('Twitter Handles')\n",
    "my_plotu.set_ylabel('Count')\n",
    "plt.show()"
   ]
  }
 ],
 "metadata": {
  "kernelspec": {
   "display_name": "Python 2",
   "language": "python",
   "name": "python2"
  },
  "language_info": {
   "codemirror_mode": {
    "name": "ipython",
    "version": 2
   },
   "file_extension": ".py",
   "mimetype": "text/x-python",
   "name": "python",
   "nbconvert_exporter": "python",
   "pygments_lexer": "ipython2",
   "version": "2.7.10"
  }
 },
 "nbformat": 4,
 "nbformat_minor": 0
}
